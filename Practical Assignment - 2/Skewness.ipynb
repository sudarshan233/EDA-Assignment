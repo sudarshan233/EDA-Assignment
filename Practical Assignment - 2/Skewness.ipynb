{
 "cells": [
  {
   "cell_type": "code",
   "execution_count": 1,
   "id": "3e620993-d516-4c69-9f25-e237fe5bba59",
   "metadata": {},
   "outputs": [],
   "source": [
    "import pandas as pd\n",
    "import numpy as np\n",
    "from scipy.stats import skew"
   ]
  },
  {
   "cell_type": "code",
   "execution_count": 2,
   "id": "3648eb5f-5616-4fb4-9fc1-47f16349e41a",
   "metadata": {},
   "outputs": [],
   "source": [
    "df = pd.read_csv(\"SampleSuperstore.csv\", encoding='ISO-8859-1')"
   ]
  },
  {
   "cell_type": "code",
   "execution_count": 3,
   "id": "569edd56-2946-4d96-b76a-d25c17292653",
   "metadata": {},
   "outputs": [
    {
     "name": "stdout",
     "output_type": "stream",
     "text": [
      "Built-in skewness:\n",
      "12.97275234181623\n"
     ]
    }
   ],
   "source": [
    "# Built-in skewness\n",
    "print(\"Built-in skewness:\")\n",
    "print(df['Sales'].skew())"
   ]
  },
  {
   "cell_type": "code",
   "execution_count": 4,
   "id": "3c5fb7b2-e3af-4b55-a6b1-d6c621fa896e",
   "metadata": {},
   "outputs": [
    {
     "name": "stdout",
     "output_type": "stream",
     "text": [
      "Skewness from scratch:\n",
      "12.97080517953353\n"
     ]
    }
   ],
   "source": [
    "def calc_skewness(x):\n",
    "    mean_x = np.mean(x)\n",
    "    std_x = np.std(x)\n",
    "    n = len(x)\n",
    "    skewness = np.sum(((x - mean_x)/std_x)**3) / n\n",
    "    return skewness\n",
    "\n",
    "print(\"Skewness from scratch:\")\n",
    "print(calc_skewness(df['Sales']))"
   ]
  }
 ],
 "metadata": {
  "kernelspec": {
   "display_name": "Python 3 (ipykernel)",
   "language": "python",
   "name": "python3"
  },
  "language_info": {
   "codemirror_mode": {
    "name": "ipython",
    "version": 3
   },
   "file_extension": ".py",
   "mimetype": "text/x-python",
   "name": "python",
   "nbconvert_exporter": "python",
   "pygments_lexer": "ipython3",
   "version": "3.12.8"
  }
 },
 "nbformat": 4,
 "nbformat_minor": 5
}
