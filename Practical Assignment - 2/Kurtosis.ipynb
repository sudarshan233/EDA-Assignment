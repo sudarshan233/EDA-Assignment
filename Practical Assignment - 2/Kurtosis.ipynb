{
 "cells": [
  {
   "cell_type": "code",
   "execution_count": 1,
   "id": "dc12ddf8-c232-475a-97ca-9e9e4f0a4a79",
   "metadata": {},
   "outputs": [],
   "source": [
    "import pandas as pd\n",
    "import numpy as np\n",
    "from scipy.stats import skew"
   ]
  },
  {
   "cell_type": "code",
   "execution_count": 2,
   "id": "6eb8b81e-f25d-4bc8-a180-1a5094d2b4e6",
   "metadata": {},
   "outputs": [],
   "source": [
    "df = pd.read_csv(\"SampleSuperstore.csv\", encoding='ISO-8859-1')"
   ]
  },
  {
   "cell_type": "code",
   "execution_count": 3,
   "id": "d65c2e19-d8a9-4b6c-8dd8-3d17c3011c3e",
   "metadata": {},
   "outputs": [
    {
     "name": "stdout",
     "output_type": "stream",
     "text": [
      "Built-in kurtosis:\n",
      "305.311753246823\n"
     ]
    }
   ],
   "source": [
    "# Built-in\n",
    "print(\"Built-in kurtosis:\")\n",
    "print(df['Sales'].kurtosis())\n"
   ]
  },
  {
   "cell_type": "code",
   "execution_count": 4,
   "id": "16595860-83ea-42df-82ea-378d9d820a31",
   "metadata": {},
   "outputs": [
    {
     "name": "stdout",
     "output_type": "stream",
     "text": [
      "Kurtosis from scratch:\n",
      "305.1584268174974\n"
     ]
    }
   ],
   "source": [
    "# From scratch\n",
    "def calc_kurtosis(x):\n",
    "    mean_x = np.mean(x)\n",
    "    std_x = np.std(x)\n",
    "    n = len(x)\n",
    "    return np.sum(((x - mean_x)/std_x)**4) / n - 3  # excess kurtosis\n",
    "\n",
    "print(\"Kurtosis from scratch:\")\n",
    "print(calc_kurtosis(df['Sales']))"
   ]
  }
 ],
 "metadata": {
  "kernelspec": {
   "display_name": "Python 3 (ipykernel)",
   "language": "python",
   "name": "python3"
  },
  "language_info": {
   "codemirror_mode": {
    "name": "ipython",
    "version": 3
   },
   "file_extension": ".py",
   "mimetype": "text/x-python",
   "name": "python",
   "nbconvert_exporter": "python",
   "pygments_lexer": "ipython3",
   "version": "3.12.8"
  }
 },
 "nbformat": 4,
 "nbformat_minor": 5
}
