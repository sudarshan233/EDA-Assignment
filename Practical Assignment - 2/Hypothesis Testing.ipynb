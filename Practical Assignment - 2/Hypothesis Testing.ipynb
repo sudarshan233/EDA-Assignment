{
 "cells": [
  {
   "cell_type": "code",
   "execution_count": 3,
   "id": "15971040-b290-43b0-933b-5721ed254652",
   "metadata": {},
   "outputs": [],
   "source": [
    "import pandas as pd\n",
    "import numpy as np\n",
    "from scipy.stats import skew\n",
    "from scipy.stats import ttest_ind, chi2_contingency, f_oneway"
   ]
  },
  {
   "cell_type": "code",
   "execution_count": 2,
   "id": "315cb483-82be-4523-bc51-f70a228fb63f",
   "metadata": {},
   "outputs": [],
   "source": [
    "df = pd.read_csv(\"SampleSuperstore.csv\", encoding='ISO-8859-1')"
   ]
  },
  {
   "cell_type": "code",
   "execution_count": 4,
   "id": "5bb317f5-cca7-40e6-9a70-d40e94408c5d",
   "metadata": {},
   "outputs": [
    {
     "name": "stdout",
     "output_type": "stream",
     "text": [
      "T-Test Result:\n",
      "TtestResult(statistic=5.835922728300767, pvalue=6.8392959243925e-09, df=1226.3498553974605)\n"
     ]
    }
   ],
   "source": [
    "# T-Test: Sales between two sub-categories\n",
    "furn_sales = df[df['Sub-Category'] == 'Chairs']['Sales']\n",
    "tech_sales = df[df['Sub-Category'] == 'Phones']['Sales']\n",
    "\n",
    "print(\"T-Test Result:\")\n",
    "print(ttest_ind(furn_sales, tech_sales, equal_var=False))"
   ]
  },
  {
   "cell_type": "code",
   "execution_count": 5,
   "id": "123b63f3-f0e2-46cd-b739-07a349aaed88",
   "metadata": {},
   "outputs": [
    {
     "name": "stdout",
     "output_type": "stream",
     "text": [
      "Chi-square Test:\n",
      "Chi2 = 3.6619309383265723, p-value = 0.7223155543986877\n"
     ]
    }
   ],
   "source": [
    "# Chi-Square: Category vs Region\n",
    "contingency = pd.crosstab(df['Category'], df['Region'])\n",
    "chi2, p, dof, ex = chi2_contingency(contingency)\n",
    "print(\"Chi-square Test:\")\n",
    "print(f\"Chi2 = {chi2}, p-value = {p}\")"
   ]
  },
  {
   "cell_type": "code",
   "execution_count": 6,
   "id": "f2cb2173-ee8c-4dd7-9907-43eec22e0063",
   "metadata": {},
   "outputs": [
    {
     "name": "stdout",
     "output_type": "stream",
     "text": [
      "ANOVA Result:\n",
      "F_onewayResult(statistic=0.8980668323003199, pvalue=0.4073892685202365)\n"
     ]
    }
   ],
   "source": [
    "# ANOVA: Compare profit across 3 segments\n",
    "segments = [df[df['Segment'] == s]['Profit'] for s in df['Segment'].unique()]\n",
    "print(\"ANOVA Result:\")\n",
    "print(f_oneway(*segments))"
   ]
  },
  {
   "cell_type": "code",
   "execution_count": null,
   "id": "3b621dcb-d064-4a2a-b6df-659a3d6cd255",
   "metadata": {},
   "outputs": [],
   "source": []
  }
 ],
 "metadata": {
  "kernelspec": {
   "display_name": "Python 3 (ipykernel)",
   "language": "python",
   "name": "python3"
  },
  "language_info": {
   "codemirror_mode": {
    "name": "ipython",
    "version": 3
   },
   "file_extension": ".py",
   "mimetype": "text/x-python",
   "name": "python",
   "nbconvert_exporter": "python",
   "pygments_lexer": "ipython3",
   "version": "3.12.8"
  }
 },
 "nbformat": 4,
 "nbformat_minor": 5
}
